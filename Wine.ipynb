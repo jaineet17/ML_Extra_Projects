{
  "nbformat": 4,
  "nbformat_minor": 0,
  "metadata": {
    "kernelspec": {
      "display_name": "Python 3",
      "language": "python",
      "name": "python3"
    },
    "language_info": {
      "codemirror_mode": {
        "name": "ipython",
        "version": 3
      },
      "file_extension": ".py",
      "mimetype": "text/x-python",
      "name": "python",
      "nbconvert_exporter": "python",
      "pygments_lexer": "ipython3",
      "version": "3.7.6"
    },
    "colab": {
      "name": "Wine.ipynb",
      "provenance": []
    }
  },
  "cells": [
    {
      "cell_type": "code",
      "metadata": {
        "id": "hhAcUUrx5AEO"
      },
      "source": [
        "import pandas as pd\n",
        "import numpy as np\n",
        "import matplotlib.pyplot as plt\n",
        "from sklearn.model_selection import train_test_split,StratifiedKFold\n",
        "from sklearn import preprocessing\n",
        "from sklearn.neighbors import KNeighborsClassifier\n",
        "from sklearn.tree import DecisionTreeClassifier\n",
        "from sklearn import svm,metrics,neighbors,tree\n",
        "from sklearn.model_selection import GridSearchCV\n",
        "from sklearn.tree import DecisionTreeClassifier\n",
        "from sklearn.linear_model import LogisticRegression\n",
        "import tensorflow as tf\n",
        "from tensorflow import keras\n",
        "from sklearn.feature_selection import SelectKBest\n",
        "from sklearn.feature_selection import chi2\n",
        "from sklearn.ensemble import ExtraTreesClassifier\n",
        "from sklearn.pipeline import Pipeline\n",
        "from sklearn.ensemble import GradientBoostingClassifier,RandomForestClassifier"
      ],
      "execution_count": null,
      "outputs": []
    },
    {
      "cell_type": "code",
      "metadata": {
        "id": "b3PpX7Qy5AEQ",
        "outputId": "41fb1eef-86f0-403e-a088-b249f811a2db"
      },
      "source": [
        "df = pd.read_excel(\"winequality-red.xls\")\n",
        "df.head()"
      ],
      "execution_count": null,
      "outputs": [
        {
          "data": {
            "text/html": [
              "<div>\n",
              "<style scoped>\n",
              "    .dataframe tbody tr th:only-of-type {\n",
              "        vertical-align: middle;\n",
              "    }\n",
              "\n",
              "    .dataframe tbody tr th {\n",
              "        vertical-align: top;\n",
              "    }\n",
              "\n",
              "    .dataframe thead th {\n",
              "        text-align: right;\n",
              "    }\n",
              "</style>\n",
              "<table border=\"1\" class=\"dataframe\">\n",
              "  <thead>\n",
              "    <tr style=\"text-align: right;\">\n",
              "      <th></th>\n",
              "      <th>fixed acidity</th>\n",
              "      <th>volatile acidity</th>\n",
              "      <th>citric acid</th>\n",
              "      <th>residual sugar</th>\n",
              "      <th>chlorides</th>\n",
              "      <th>free sulfur dioxide</th>\n",
              "      <th>total sulfur dioxide</th>\n",
              "      <th>density</th>\n",
              "      <th>pH</th>\n",
              "      <th>sulphates</th>\n",
              "      <th>alcohol</th>\n",
              "      <th>quality</th>\n",
              "    </tr>\n",
              "  </thead>\n",
              "  <tbody>\n",
              "    <tr>\n",
              "      <th>0</th>\n",
              "      <td>7.4</td>\n",
              "      <td>0.70</td>\n",
              "      <td>0.00</td>\n",
              "      <td>1.9</td>\n",
              "      <td>0.076</td>\n",
              "      <td>11.0</td>\n",
              "      <td>34.0</td>\n",
              "      <td>0.9978</td>\n",
              "      <td>3.51</td>\n",
              "      <td>0.56</td>\n",
              "      <td>9.4</td>\n",
              "      <td>5</td>\n",
              "    </tr>\n",
              "    <tr>\n",
              "      <th>1</th>\n",
              "      <td>7.8</td>\n",
              "      <td>0.88</td>\n",
              "      <td>0.00</td>\n",
              "      <td>2.6</td>\n",
              "      <td>0.098</td>\n",
              "      <td>25.0</td>\n",
              "      <td>67.0</td>\n",
              "      <td>0.9968</td>\n",
              "      <td>3.20</td>\n",
              "      <td>0.68</td>\n",
              "      <td>9.8</td>\n",
              "      <td>5</td>\n",
              "    </tr>\n",
              "    <tr>\n",
              "      <th>2</th>\n",
              "      <td>7.8</td>\n",
              "      <td>0.76</td>\n",
              "      <td>0.04</td>\n",
              "      <td>2.3</td>\n",
              "      <td>0.092</td>\n",
              "      <td>15.0</td>\n",
              "      <td>54.0</td>\n",
              "      <td>0.9970</td>\n",
              "      <td>3.26</td>\n",
              "      <td>0.65</td>\n",
              "      <td>9.8</td>\n",
              "      <td>5</td>\n",
              "    </tr>\n",
              "    <tr>\n",
              "      <th>3</th>\n",
              "      <td>11.2</td>\n",
              "      <td>0.28</td>\n",
              "      <td>0.56</td>\n",
              "      <td>1.9</td>\n",
              "      <td>0.075</td>\n",
              "      <td>17.0</td>\n",
              "      <td>60.0</td>\n",
              "      <td>0.9980</td>\n",
              "      <td>3.16</td>\n",
              "      <td>0.58</td>\n",
              "      <td>9.8</td>\n",
              "      <td>6</td>\n",
              "    </tr>\n",
              "    <tr>\n",
              "      <th>4</th>\n",
              "      <td>7.4</td>\n",
              "      <td>0.70</td>\n",
              "      <td>0.00</td>\n",
              "      <td>1.9</td>\n",
              "      <td>0.076</td>\n",
              "      <td>11.0</td>\n",
              "      <td>34.0</td>\n",
              "      <td>0.9978</td>\n",
              "      <td>3.51</td>\n",
              "      <td>0.56</td>\n",
              "      <td>9.4</td>\n",
              "      <td>5</td>\n",
              "    </tr>\n",
              "  </tbody>\n",
              "</table>\n",
              "</div>"
            ],
            "text/plain": [
              "   fixed acidity  volatile acidity  citric acid  residual sugar  chlorides  \\\n",
              "0            7.4              0.70         0.00             1.9      0.076   \n",
              "1            7.8              0.88         0.00             2.6      0.098   \n",
              "2            7.8              0.76         0.04             2.3      0.092   \n",
              "3           11.2              0.28         0.56             1.9      0.075   \n",
              "4            7.4              0.70         0.00             1.9      0.076   \n",
              "\n",
              "   free sulfur dioxide  total sulfur dioxide  density    pH  sulphates  \\\n",
              "0                 11.0                  34.0   0.9978  3.51       0.56   \n",
              "1                 25.0                  67.0   0.9968  3.20       0.68   \n",
              "2                 15.0                  54.0   0.9970  3.26       0.65   \n",
              "3                 17.0                  60.0   0.9980  3.16       0.58   \n",
              "4                 11.0                  34.0   0.9978  3.51       0.56   \n",
              "\n",
              "   alcohol  quality  \n",
              "0      9.4        5  \n",
              "1      9.8        5  \n",
              "2      9.8        5  \n",
              "3      9.8        6  \n",
              "4      9.4        5  "
            ]
          },
          "execution_count": 2,
          "metadata": {},
          "output_type": "execute_result"
        }
      ]
    },
    {
      "cell_type": "code",
      "metadata": {
        "id": "yKXTK7vz5AER",
        "outputId": "4830a9c8-3b2a-42f0-fc55-ecd3851499f0"
      },
      "source": [
        "df.columns"
      ],
      "execution_count": null,
      "outputs": [
        {
          "data": {
            "text/plain": [
              "Index(['fixed acidity', 'volatile acidity', 'citric acid', 'residual sugar',\n",
              "       'chlorides', 'free sulfur dioxide', 'total sulfur dioxide', 'density',\n",
              "       'pH', 'sulphates', 'alcohol', 'quality'],\n",
              "      dtype='object')"
            ]
          },
          "execution_count": 3,
          "metadata": {},
          "output_type": "execute_result"
        }
      ]
    },
    {
      "cell_type": "code",
      "metadata": {
        "id": "aJ5b5LSr5AES",
        "outputId": "fc603216-afea-453f-d67f-f8662153c0e5"
      },
      "source": [
        "df.info()"
      ],
      "execution_count": null,
      "outputs": [
        {
          "name": "stdout",
          "output_type": "stream",
          "text": [
            "<class 'pandas.core.frame.DataFrame'>\n",
            "RangeIndex: 1599 entries, 0 to 1598\n",
            "Data columns (total 12 columns):\n",
            " #   Column                Non-Null Count  Dtype  \n",
            "---  ------                --------------  -----  \n",
            " 0   fixed acidity         1599 non-null   float64\n",
            " 1   volatile acidity      1599 non-null   float64\n",
            " 2   citric acid           1599 non-null   float64\n",
            " 3   residual sugar        1599 non-null   float64\n",
            " 4   chlorides             1599 non-null   float64\n",
            " 5   free sulfur dioxide   1599 non-null   float64\n",
            " 6   total sulfur dioxide  1599 non-null   float64\n",
            " 7   density               1599 non-null   float64\n",
            " 8   pH                    1599 non-null   float64\n",
            " 9   sulphates             1599 non-null   float64\n",
            " 10  alcohol               1599 non-null   float64\n",
            " 11  quality               1599 non-null   int64  \n",
            "dtypes: float64(11), int64(1)\n",
            "memory usage: 150.0 KB\n"
          ]
        }
      ]
    },
    {
      "cell_type": "code",
      "metadata": {
        "id": "Oi2a05tX5AET",
        "outputId": "09b16021-702b-454f-9935-3a128a9d5359"
      },
      "source": [
        "df.describe()"
      ],
      "execution_count": null,
      "outputs": [
        {
          "data": {
            "text/html": [
              "<div>\n",
              "<style scoped>\n",
              "    .dataframe tbody tr th:only-of-type {\n",
              "        vertical-align: middle;\n",
              "    }\n",
              "\n",
              "    .dataframe tbody tr th {\n",
              "        vertical-align: top;\n",
              "    }\n",
              "\n",
              "    .dataframe thead th {\n",
              "        text-align: right;\n",
              "    }\n",
              "</style>\n",
              "<table border=\"1\" class=\"dataframe\">\n",
              "  <thead>\n",
              "    <tr style=\"text-align: right;\">\n",
              "      <th></th>\n",
              "      <th>fixed acidity</th>\n",
              "      <th>volatile acidity</th>\n",
              "      <th>citric acid</th>\n",
              "      <th>residual sugar</th>\n",
              "      <th>chlorides</th>\n",
              "      <th>free sulfur dioxide</th>\n",
              "      <th>total sulfur dioxide</th>\n",
              "      <th>density</th>\n",
              "      <th>pH</th>\n",
              "      <th>sulphates</th>\n",
              "      <th>alcohol</th>\n",
              "      <th>quality</th>\n",
              "    </tr>\n",
              "  </thead>\n",
              "  <tbody>\n",
              "    <tr>\n",
              "      <th>count</th>\n",
              "      <td>1599.000000</td>\n",
              "      <td>1599.000000</td>\n",
              "      <td>1599.000000</td>\n",
              "      <td>1599.000000</td>\n",
              "      <td>1599.000000</td>\n",
              "      <td>1599.000000</td>\n",
              "      <td>1599.000000</td>\n",
              "      <td>1599.000000</td>\n",
              "      <td>1599.000000</td>\n",
              "      <td>1599.000000</td>\n",
              "      <td>1599.000000</td>\n",
              "      <td>1599.000000</td>\n",
              "    </tr>\n",
              "    <tr>\n",
              "      <th>mean</th>\n",
              "      <td>8.319637</td>\n",
              "      <td>0.527821</td>\n",
              "      <td>0.270976</td>\n",
              "      <td>2.538806</td>\n",
              "      <td>0.087467</td>\n",
              "      <td>15.874922</td>\n",
              "      <td>46.467792</td>\n",
              "      <td>0.996747</td>\n",
              "      <td>3.311113</td>\n",
              "      <td>0.658149</td>\n",
              "      <td>10.422983</td>\n",
              "      <td>5.636023</td>\n",
              "    </tr>\n",
              "    <tr>\n",
              "      <th>std</th>\n",
              "      <td>1.741096</td>\n",
              "      <td>0.179060</td>\n",
              "      <td>0.194801</td>\n",
              "      <td>1.409928</td>\n",
              "      <td>0.047065</td>\n",
              "      <td>10.460157</td>\n",
              "      <td>32.895324</td>\n",
              "      <td>0.001887</td>\n",
              "      <td>0.154386</td>\n",
              "      <td>0.169507</td>\n",
              "      <td>1.065668</td>\n",
              "      <td>0.807569</td>\n",
              "    </tr>\n",
              "    <tr>\n",
              "      <th>min</th>\n",
              "      <td>4.600000</td>\n",
              "      <td>0.120000</td>\n",
              "      <td>0.000000</td>\n",
              "      <td>0.900000</td>\n",
              "      <td>0.012000</td>\n",
              "      <td>1.000000</td>\n",
              "      <td>6.000000</td>\n",
              "      <td>0.990070</td>\n",
              "      <td>2.740000</td>\n",
              "      <td>0.330000</td>\n",
              "      <td>8.400000</td>\n",
              "      <td>3.000000</td>\n",
              "    </tr>\n",
              "    <tr>\n",
              "      <th>25%</th>\n",
              "      <td>7.100000</td>\n",
              "      <td>0.390000</td>\n",
              "      <td>0.090000</td>\n",
              "      <td>1.900000</td>\n",
              "      <td>0.070000</td>\n",
              "      <td>7.000000</td>\n",
              "      <td>22.000000</td>\n",
              "      <td>0.995600</td>\n",
              "      <td>3.210000</td>\n",
              "      <td>0.550000</td>\n",
              "      <td>9.500000</td>\n",
              "      <td>5.000000</td>\n",
              "    </tr>\n",
              "    <tr>\n",
              "      <th>50%</th>\n",
              "      <td>7.900000</td>\n",
              "      <td>0.520000</td>\n",
              "      <td>0.260000</td>\n",
              "      <td>2.200000</td>\n",
              "      <td>0.079000</td>\n",
              "      <td>14.000000</td>\n",
              "      <td>38.000000</td>\n",
              "      <td>0.996750</td>\n",
              "      <td>3.310000</td>\n",
              "      <td>0.620000</td>\n",
              "      <td>10.200000</td>\n",
              "      <td>6.000000</td>\n",
              "    </tr>\n",
              "    <tr>\n",
              "      <th>75%</th>\n",
              "      <td>9.200000</td>\n",
              "      <td>0.640000</td>\n",
              "      <td>0.420000</td>\n",
              "      <td>2.600000</td>\n",
              "      <td>0.090000</td>\n",
              "      <td>21.000000</td>\n",
              "      <td>62.000000</td>\n",
              "      <td>0.997835</td>\n",
              "      <td>3.400000</td>\n",
              "      <td>0.730000</td>\n",
              "      <td>11.100000</td>\n",
              "      <td>6.000000</td>\n",
              "    </tr>\n",
              "    <tr>\n",
              "      <th>max</th>\n",
              "      <td>15.900000</td>\n",
              "      <td>1.580000</td>\n",
              "      <td>1.000000</td>\n",
              "      <td>15.500000</td>\n",
              "      <td>0.611000</td>\n",
              "      <td>72.000000</td>\n",
              "      <td>289.000000</td>\n",
              "      <td>1.003690</td>\n",
              "      <td>4.010000</td>\n",
              "      <td>2.000000</td>\n",
              "      <td>14.900000</td>\n",
              "      <td>8.000000</td>\n",
              "    </tr>\n",
              "  </tbody>\n",
              "</table>\n",
              "</div>"
            ],
            "text/plain": [
              "       fixed acidity  volatile acidity  citric acid  residual sugar  \\\n",
              "count    1599.000000       1599.000000  1599.000000     1599.000000   \n",
              "mean        8.319637          0.527821     0.270976        2.538806   \n",
              "std         1.741096          0.179060     0.194801        1.409928   \n",
              "min         4.600000          0.120000     0.000000        0.900000   \n",
              "25%         7.100000          0.390000     0.090000        1.900000   \n",
              "50%         7.900000          0.520000     0.260000        2.200000   \n",
              "75%         9.200000          0.640000     0.420000        2.600000   \n",
              "max        15.900000          1.580000     1.000000       15.500000   \n",
              "\n",
              "         chlorides  free sulfur dioxide  total sulfur dioxide      density  \\\n",
              "count  1599.000000          1599.000000           1599.000000  1599.000000   \n",
              "mean      0.087467            15.874922             46.467792     0.996747   \n",
              "std       0.047065            10.460157             32.895324     0.001887   \n",
              "min       0.012000             1.000000              6.000000     0.990070   \n",
              "25%       0.070000             7.000000             22.000000     0.995600   \n",
              "50%       0.079000            14.000000             38.000000     0.996750   \n",
              "75%       0.090000            21.000000             62.000000     0.997835   \n",
              "max       0.611000            72.000000            289.000000     1.003690   \n",
              "\n",
              "                pH    sulphates      alcohol      quality  \n",
              "count  1599.000000  1599.000000  1599.000000  1599.000000  \n",
              "mean      3.311113     0.658149    10.422983     5.636023  \n",
              "std       0.154386     0.169507     1.065668     0.807569  \n",
              "min       2.740000     0.330000     8.400000     3.000000  \n",
              "25%       3.210000     0.550000     9.500000     5.000000  \n",
              "50%       3.310000     0.620000    10.200000     6.000000  \n",
              "75%       3.400000     0.730000    11.100000     6.000000  \n",
              "max       4.010000     2.000000    14.900000     8.000000  "
            ]
          },
          "execution_count": 5,
          "metadata": {},
          "output_type": "execute_result"
        }
      ]
    },
    {
      "cell_type": "code",
      "metadata": {
        "id": "xl0i2vcz5AET",
        "outputId": "f8f01345-69e1-40f9-e713-1ddb403e7a28"
      },
      "source": [
        "df['quality'].unique()"
      ],
      "execution_count": null,
      "outputs": [
        {
          "data": {
            "text/plain": [
              "array([5, 6, 7, 4, 8, 3])"
            ]
          },
          "execution_count": 6,
          "metadata": {},
          "output_type": "execute_result"
        }
      ]
    },
    {
      "cell_type": "code",
      "metadata": {
        "id": "SQOh-ZPI5AEU",
        "outputId": "546aed1b-6179-46eb-f431-2a4ff30022ac"
      },
      "source": [
        "df.set_index([\"chlorides\",\"quality\"]).count(level=\"quality\")"
      ],
      "execution_count": null,
      "outputs": [
        {
          "data": {
            "text/html": [
              "<div>\n",
              "<style scoped>\n",
              "    .dataframe tbody tr th:only-of-type {\n",
              "        vertical-align: middle;\n",
              "    }\n",
              "\n",
              "    .dataframe tbody tr th {\n",
              "        vertical-align: top;\n",
              "    }\n",
              "\n",
              "    .dataframe thead th {\n",
              "        text-align: right;\n",
              "    }\n",
              "</style>\n",
              "<table border=\"1\" class=\"dataframe\">\n",
              "  <thead>\n",
              "    <tr style=\"text-align: right;\">\n",
              "      <th></th>\n",
              "      <th>fixed acidity</th>\n",
              "      <th>volatile acidity</th>\n",
              "      <th>citric acid</th>\n",
              "      <th>residual sugar</th>\n",
              "      <th>free sulfur dioxide</th>\n",
              "      <th>total sulfur dioxide</th>\n",
              "      <th>density</th>\n",
              "      <th>pH</th>\n",
              "      <th>sulphates</th>\n",
              "      <th>alcohol</th>\n",
              "    </tr>\n",
              "    <tr>\n",
              "      <th>quality</th>\n",
              "      <th></th>\n",
              "      <th></th>\n",
              "      <th></th>\n",
              "      <th></th>\n",
              "      <th></th>\n",
              "      <th></th>\n",
              "      <th></th>\n",
              "      <th></th>\n",
              "      <th></th>\n",
              "      <th></th>\n",
              "    </tr>\n",
              "  </thead>\n",
              "  <tbody>\n",
              "    <tr>\n",
              "      <th>3</th>\n",
              "      <td>10</td>\n",
              "      <td>10</td>\n",
              "      <td>10</td>\n",
              "      <td>10</td>\n",
              "      <td>10</td>\n",
              "      <td>10</td>\n",
              "      <td>10</td>\n",
              "      <td>10</td>\n",
              "      <td>10</td>\n",
              "      <td>10</td>\n",
              "    </tr>\n",
              "    <tr>\n",
              "      <th>4</th>\n",
              "      <td>53</td>\n",
              "      <td>53</td>\n",
              "      <td>53</td>\n",
              "      <td>53</td>\n",
              "      <td>53</td>\n",
              "      <td>53</td>\n",
              "      <td>53</td>\n",
              "      <td>53</td>\n",
              "      <td>53</td>\n",
              "      <td>53</td>\n",
              "    </tr>\n",
              "    <tr>\n",
              "      <th>5</th>\n",
              "      <td>681</td>\n",
              "      <td>681</td>\n",
              "      <td>681</td>\n",
              "      <td>681</td>\n",
              "      <td>681</td>\n",
              "      <td>681</td>\n",
              "      <td>681</td>\n",
              "      <td>681</td>\n",
              "      <td>681</td>\n",
              "      <td>681</td>\n",
              "    </tr>\n",
              "    <tr>\n",
              "      <th>6</th>\n",
              "      <td>638</td>\n",
              "      <td>638</td>\n",
              "      <td>638</td>\n",
              "      <td>638</td>\n",
              "      <td>638</td>\n",
              "      <td>638</td>\n",
              "      <td>638</td>\n",
              "      <td>638</td>\n",
              "      <td>638</td>\n",
              "      <td>638</td>\n",
              "    </tr>\n",
              "    <tr>\n",
              "      <th>7</th>\n",
              "      <td>199</td>\n",
              "      <td>199</td>\n",
              "      <td>199</td>\n",
              "      <td>199</td>\n",
              "      <td>199</td>\n",
              "      <td>199</td>\n",
              "      <td>199</td>\n",
              "      <td>199</td>\n",
              "      <td>199</td>\n",
              "      <td>199</td>\n",
              "    </tr>\n",
              "    <tr>\n",
              "      <th>8</th>\n",
              "      <td>18</td>\n",
              "      <td>18</td>\n",
              "      <td>18</td>\n",
              "      <td>18</td>\n",
              "      <td>18</td>\n",
              "      <td>18</td>\n",
              "      <td>18</td>\n",
              "      <td>18</td>\n",
              "      <td>18</td>\n",
              "      <td>18</td>\n",
              "    </tr>\n",
              "  </tbody>\n",
              "</table>\n",
              "</div>"
            ],
            "text/plain": [
              "         fixed acidity  volatile acidity  citric acid  residual sugar  \\\n",
              "quality                                                                 \n",
              "3                   10                10           10              10   \n",
              "4                   53                53           53              53   \n",
              "5                  681               681          681             681   \n",
              "6                  638               638          638             638   \n",
              "7                  199               199          199             199   \n",
              "8                   18                18           18              18   \n",
              "\n",
              "         free sulfur dioxide  total sulfur dioxide  density   pH  sulphates  \\\n",
              "quality                                                                       \n",
              "3                         10                    10       10   10         10   \n",
              "4                         53                    53       53   53         53   \n",
              "5                        681                   681      681  681        681   \n",
              "6                        638                   638      638  638        638   \n",
              "7                        199                   199      199  199        199   \n",
              "8                         18                    18       18   18         18   \n",
              "\n",
              "         alcohol  \n",
              "quality           \n",
              "3             10  \n",
              "4             53  \n",
              "5            681  \n",
              "6            638  \n",
              "7            199  \n",
              "8             18  "
            ]
          },
          "execution_count": 7,
          "metadata": {},
          "output_type": "execute_result"
        }
      ]
    },
    {
      "cell_type": "code",
      "metadata": {
        "id": "WzWxtDmF5AEV",
        "outputId": "9a013ccb-12c5-46a3-b15c-f41bd4647445"
      },
      "source": [
        "X = df[['fixed acidity', 'volatile acidity', 'citric acid', 'residual sugar',\n",
        "       'chlorides', 'free sulfur dioxide', 'total sulfur dioxide', 'density',\n",
        "       'pH', 'sulphates', 'alcohol']].values\n",
        "X[:5]"
      ],
      "execution_count": null,
      "outputs": [
        {
          "data": {
            "text/plain": [
              "array([[7.400e+00, 7.000e-01, 0.000e+00, 1.900e+00, 7.600e-02, 1.100e+01,\n",
              "        3.400e+01, 9.978e-01, 3.510e+00, 5.600e-01, 9.400e+00],\n",
              "       [7.800e+00, 8.800e-01, 0.000e+00, 2.600e+00, 9.800e-02, 2.500e+01,\n",
              "        6.700e+01, 9.968e-01, 3.200e+00, 6.800e-01, 9.800e+00],\n",
              "       [7.800e+00, 7.600e-01, 4.000e-02, 2.300e+00, 9.200e-02, 1.500e+01,\n",
              "        5.400e+01, 9.970e-01, 3.260e+00, 6.500e-01, 9.800e+00],\n",
              "       [1.120e+01, 2.800e-01, 5.600e-01, 1.900e+00, 7.500e-02, 1.700e+01,\n",
              "        6.000e+01, 9.980e-01, 3.160e+00, 5.800e-01, 9.800e+00],\n",
              "       [7.400e+00, 7.000e-01, 0.000e+00, 1.900e+00, 7.600e-02, 1.100e+01,\n",
              "        3.400e+01, 9.978e-01, 3.510e+00, 5.600e-01, 9.400e+00]])"
            ]
          },
          "execution_count": 8,
          "metadata": {},
          "output_type": "execute_result"
        }
      ]
    },
    {
      "cell_type": "code",
      "metadata": {
        "id": "3XzKeMjo5AEV",
        "outputId": "1f41be53-3248-42ec-d24d-c164b6715998"
      },
      "source": [
        "y = df['quality'].values\n",
        "\n",
        "for i in range(0,len(y)):\n",
        "    y[i] = y[i] - 3\n",
        "    \n",
        "        \n",
        "y[:5]"
      ],
      "execution_count": null,
      "outputs": [
        {
          "data": {
            "text/plain": [
              "array([2, 2, 2, 3, 2])"
            ]
          },
          "execution_count": 9,
          "metadata": {},
          "output_type": "execute_result"
        }
      ]
    },
    {
      "cell_type": "code",
      "metadata": {
        "id": "EutUdtLB5AEW",
        "outputId": "7b033a45-51b1-452c-b62a-6e052b0cf5ba"
      },
      "source": [
        "X = preprocessing.MinMaxScaler().fit(X).transform(X.astype(float))\n",
        "X[0:5]"
      ],
      "execution_count": null,
      "outputs": [
        {
          "data": {
            "text/plain": [
              "array([[0.24778761, 0.39726027, 0.        , 0.06849315, 0.10684474,\n",
              "        0.14084507, 0.09893993, 0.56754772, 0.60629921, 0.13772455,\n",
              "        0.15384615],\n",
              "       [0.28318584, 0.52054795, 0.        , 0.11643836, 0.14357262,\n",
              "        0.33802817, 0.2155477 , 0.49412628, 0.36220472, 0.20958084,\n",
              "        0.21538462],\n",
              "       [0.28318584, 0.43835616, 0.04      , 0.09589041, 0.13355593,\n",
              "        0.1971831 , 0.16961131, 0.50881057, 0.40944882, 0.19161677,\n",
              "        0.21538462],\n",
              "       [0.5840708 , 0.10958904, 0.56      , 0.06849315, 0.10517529,\n",
              "        0.22535211, 0.19081272, 0.58223201, 0.33070866, 0.1497006 ,\n",
              "        0.21538462],\n",
              "       [0.24778761, 0.39726027, 0.        , 0.06849315, 0.10684474,\n",
              "        0.14084507, 0.09893993, 0.56754772, 0.60629921, 0.13772455,\n",
              "        0.15384615]])"
            ]
          },
          "execution_count": 10,
          "metadata": {},
          "output_type": "execute_result"
        }
      ]
    },
    {
      "cell_type": "markdown",
      "metadata": {
        "id": "nOpdp3vh5AEW"
      },
      "source": [
        "# Univariate feature selection (chi-squared test)"
      ]
    },
    {
      "cell_type": "code",
      "metadata": {
        "id": "MkKOMMcn5AEX",
        "outputId": "13de1602-3e13-4b6f-b108-cefdc656bf62"
      },
      "source": [
        "X = pd.DataFrame(X)\n",
        "bestfeatures = SelectKBest(score_func=chi2, k=10)\n",
        "fit = bestfeatures.fit(X,y)\n",
        "dfscores = pd.DataFrame(fit.scores_)\n",
        "dfcolumns = pd.DataFrame(X.columns) \n",
        "featureScores = pd.concat([dfcolumns,dfscores],axis=1)\n",
        "featureScores.columns = ['Specs','Score']  \n",
        "print(featureScores.nlargest(7,'Score'))  "
      ],
      "execution_count": null,
      "outputs": [
        {
          "name": "stdout",
          "output_type": "stream",
          "text": [
            "    Specs      Score\n",
            "10     10  36.803074\n",
            "1       1  13.811468\n",
            "2       2  13.025665\n",
            "6       6  11.180614\n",
            "9       9   5.474665\n",
            "7       7   2.525748\n",
            "5       5   2.434120\n"
          ]
        }
      ]
    },
    {
      "cell_type": "markdown",
      "metadata": {
        "id": "ZuUf_FES5AEY"
      },
      "source": [
        "# Feature Importance using Tree based Classifier"
      ]
    },
    {
      "cell_type": "code",
      "metadata": {
        "id": "TcIxfIEh5AEY",
        "outputId": "25c2b4b5-653b-4d6a-bbd2-4133fcad51a9"
      },
      "source": [
        "model = ExtraTreesClassifier()\n",
        "model.fit(X,y)\n",
        "print(model.feature_importances_) \n",
        "feat_importances = pd.Series(model.feature_importances_, index=X.columns)\n",
        "feat_importances.nlargest(7).plot(kind='barh')\n",
        "plt.show()"
      ],
      "execution_count": null,
      "outputs": [
        {
          "name": "stdout",
          "output_type": "stream",
          "text": [
            "[0.07892919 0.09616056 0.081289   0.0785168  0.07559496 0.07376238\n",
            " 0.10290111 0.08499912 0.07645718 0.1048965  0.1464932 ]\n"
          ]
        },
        {
          "data": {
            "image/png": "[encoded data removed]",
            "text/plain": [
              "<Figure size 432x288 with 1 Axes>"
            ]
          },
          "metadata": {
            "needs_background": "light"
          },
          "output_type": "display_data"
        }
      ]
    },
    {
      "cell_type": "code",
      "metadata": {
        "id": "345OSinn5AEZ",
        "outputId": "612a764f-c585-4b7e-ad07-68cd4b8ec512"
      },
      "source": [
        "X = df[['volatile acidity', 'citric acid', 'total sulfur dioxide', 'sulphates', 'alcohol']].values\n",
        "X = preprocessing.MinMaxScaler().fit(X).transform(X.astype(float))\n",
        "X[0:5]"
      ],
      "execution_count": null,
      "outputs": [
        {
          "data": {
            "text/plain": [
              "array([[0.39726027, 0.        , 0.09893993, 0.13772455, 0.15384615],\n",
              "       [0.52054795, 0.        , 0.2155477 , 0.20958084, 0.21538462],\n",
              "       [0.43835616, 0.04      , 0.16961131, 0.19161677, 0.21538462],\n",
              "       [0.10958904, 0.56      , 0.19081272, 0.1497006 , 0.21538462],\n",
              "       [0.39726027, 0.        , 0.09893993, 0.13772455, 0.15384615]])"
            ]
          },
          "execution_count": 13,
          "metadata": {},
          "output_type": "execute_result"
        }
      ]
    },
    {
      "cell_type": "markdown",
      "metadata": {
        "id": "ac6IEEc15AEZ"
      },
      "source": [
        "# Stratified Folds"
      ]
    },
    {
      "cell_type": "code",
      "metadata": {
        "id": "P42naV-Y5AEa"
      },
      "source": [
        "skf = StratifiedKFold(n_splits=3)\n",
        "skf.get_n_splits(X, y)\n",
        "for train_index, test_index in skf.split(X, y):\n",
        "    X_train, X_test = X[train_index], X[test_index]\n",
        "    y_train, y_test = y[train_index], y[test_index]"
      ],
      "execution_count": null,
      "outputs": []
    },
    {
      "cell_type": "markdown",
      "metadata": {
        "id": "KtiYiAQL5AEa"
      },
      "source": [
        "# Normal Split"
      ]
    },
    {
      "cell_type": "code",
      "metadata": {
        "id": "BzjMzLkk5AEa"
      },
      "source": [
        "X_train, X_test, y_train, y_test = train_test_split(X, y, test_size=0.15, random_state=1)"
      ],
      "execution_count": null,
      "outputs": []
    },
    {
      "cell_type": "markdown",
      "metadata": {
        "id": "qBd_UyAA5AEb"
      },
      "source": [
        "# KNN "
      ]
    },
    {
      "cell_type": "code",
      "metadata": {
        "id": "NesviLTj5AEb",
        "outputId": "c02d846d-c352-4d21-e9f9-8f98f6e64ac6"
      },
      "source": [
        "clf = neighbors.KNeighborsClassifier()\n",
        "para_grid = {'n_neighbors':[1,2,3,4,5,6,7,8,9,10,15,20],'weights':['uniform','distance']}\n",
        "clf_g = GridSearchCV(clf,para_grid,cv=5)\n",
        "clf_g.fit(X_train,y_train)\n",
        "print(clf_g.best_params_)\n",
        "pred = clf_g.predict(X_test)\n",
        "print(\"Accuracy:\",metrics.accuracy_score(y_test,pred, normalize = True))\n",
        "print(metrics.classification_report(y_test,pred))\n",
        "print(\"\\tConfusion Matrix\")\n",
        "print(metrics.confusion_matrix(y_test,pred))"
      ],
      "execution_count": null,
      "outputs": [
        {
          "name": "stdout",
          "output_type": "stream",
          "text": [
            "{'n_neighbors': 20, 'weights': 'distance'}\n",
            "Accuracy: 0.7166666666666667\n",
            "              precision    recall  f1-score   support\n",
            "\n",
            "           0       0.00      0.00      0.00         1\n",
            "           1       1.00      0.12      0.22         8\n",
            "           2       0.72      0.84      0.77        99\n",
            "           3       0.73      0.71      0.72       104\n",
            "           4       0.65      0.48      0.55        27\n",
            "           5       1.00      1.00      1.00         1\n",
            "\n",
            "    accuracy                           0.72       240\n",
            "   macro avg       0.68      0.53      0.54       240\n",
            "weighted avg       0.72      0.72      0.70       240\n",
            "\n",
            "\tConfusion Matrix\n",
            "[[ 0  0  1  0  0  0]\n",
            " [ 0  1  6  1  0  0]\n",
            " [ 0  0 83 15  1  0]\n",
            " [ 0  0 24 74  6  0]\n",
            " [ 0  0  2 12 13  0]\n",
            " [ 0  0  0  0  0  1]]\n"
          ]
        },
        {
          "name": "stderr",
          "output_type": "stream",
          "text": [
            "/Users/jaineet/opt/anaconda3/lib/python3.7/site-packages/sklearn/metrics/_classification.py:1272: UndefinedMetricWarning: Precision and F-score are ill-defined and being set to 0.0 in labels with no predicted samples. Use `zero_division` parameter to control this behavior.\n",
            "  _warn_prf(average, modifier, msg_start, len(result))\n"
          ]
        }
      ]
    },
    {
      "cell_type": "markdown",
      "metadata": {
        "id": "UtJP24t25AEb"
      },
      "source": [
        "# SVM"
      ]
    },
    {
      "cell_type": "code",
      "metadata": {
        "id": "vjg6Ynh05AEc",
        "outputId": "82257615-79c5-4b6b-9398-8fe3386c05b7"
      },
      "source": [
        "clf = svm.SVC(kernel='rbf')\n",
        "clf.fit(X_train,y_train)"
      ],
      "execution_count": null,
      "outputs": [
        {
          "data": {
            "text/plain": [
              "SVC(C=1.0, break_ties=False, cache_size=200, class_weight=None, coef0=0.0,\n",
              "    decision_function_shape='ovr', degree=3, gamma='scale', kernel='rbf',\n",
              "    max_iter=-1, probability=False, random_state=None, shrinking=True,\n",
              "    tol=0.001, verbose=False)"
            ]
          },
          "execution_count": 17,
          "metadata": {},
          "output_type": "execute_result"
        }
      ]
    },
    {
      "cell_type": "code",
      "metadata": {
        "id": "v9-1ZhQC5AEc",
        "outputId": "9f3c43ae-29bc-4b42-d2eb-52eca1be3df4"
      },
      "source": [
        "pred = clf.predict(X_test)\n",
        "print(\"Accuracy:\",metrics.accuracy_score(y_test,pred, normalize = True))\n",
        "print(metrics.classification_report(y_test,pred))\n",
        "print(\"\\tConfusion Matrix\")\n",
        "print(metrics.confusion_matrix(y_test,pred))"
      ],
      "execution_count": null,
      "outputs": [
        {
          "name": "stdout",
          "output_type": "stream",
          "text": [
            "Accuracy: 0.6458333333333334\n",
            "              precision    recall  f1-score   support\n",
            "\n",
            "           0       0.00      0.00      0.00         1\n",
            "           1       0.00      0.00      0.00         8\n",
            "           2       0.66      0.81      0.72        99\n",
            "           3       0.64      0.65      0.64       104\n",
            "           4       0.64      0.26      0.37        27\n",
            "           5       0.00      0.00      0.00         1\n",
            "\n",
            "    accuracy                           0.65       240\n",
            "   macro avg       0.32      0.29      0.29       240\n",
            "weighted avg       0.62      0.65      0.62       240\n",
            "\n",
            "\tConfusion Matrix\n",
            "[[ 0  0  1  0  0  0]\n",
            " [ 0  0  7  1  0  0]\n",
            " [ 0  0 80 19  0  0]\n",
            " [ 0  0 32 68  4  0]\n",
            " [ 0  0  2 18  7  0]\n",
            " [ 0  0  0  1  0  0]]\n"
          ]
        },
        {
          "name": "stderr",
          "output_type": "stream",
          "text": [
            "/Users/jaineet/opt/anaconda3/lib/python3.7/site-packages/sklearn/metrics/_classification.py:1272: UndefinedMetricWarning: Precision and F-score are ill-defined and being set to 0.0 in labels with no predicted samples. Use `zero_division` parameter to control this behavior.\n",
            "  _warn_prf(average, modifier, msg_start, len(result))\n"
          ]
        }
      ]
    },
    {
      "cell_type": "markdown",
      "metadata": {
        "id": "uxMcr0lW5AEd"
      },
      "source": [
        "# DECISION TREE"
      ]
    },
    {
      "cell_type": "code",
      "metadata": {
        "id": "I4L6xK8L5AEd",
        "outputId": "d639f3db-81ff-4f1f-85e1-46df9a4cedc8"
      },
      "source": [
        "clf = Pipeline([('clf', DecisionTreeClassifier(random_state=101))])  \n",
        "\n",
        "criterion = ['gini', 'entropy']\n",
        "splitter = ['best']\n",
        "max_depth = [8, 9, 10, 11] \n",
        "min_samples_leaf = [2, 3, 5]\n",
        "class_weight = ['balanced', None] \n",
        "\n",
        "param_grid = [{ 'clf__class_weight': class_weight\n",
        "                ,'clf__criterion': criterion\n",
        "                ,'clf__splitter': splitter\n",
        "                ,'clf__max_depth': max_depth\n",
        "                ,'clf__min_samples_leaf': min_samples_leaf\n",
        "            }]\n",
        "\n",
        "gs = GridSearchCV(estimator=clf, param_grid=param_grid, scoring='accuracy', cv=3, verbose=1)\n",
        "\n",
        "gs.fit(X_train,y_train)\n",
        "\n",
        "pred = gs.predict(X_test)\n",
        "print(\"Accuracy:\",metrics.accuracy_score(y_test,pred, normalize = True))\n",
        "print(metrics.classification_report(y_test,pred))\n",
        "print(\"\\tConfusion Matrix\")\n",
        "print(metrics.confusion_matrix(y_test,pred))"
      ],
      "execution_count": null,
      "outputs": [
        {
          "name": "stdout",
          "output_type": "stream",
          "text": [
            "Fitting 3 folds for each of 48 candidates, totalling 144 fits\n"
          ]
        },
        {
          "name": "stderr",
          "output_type": "stream",
          "text": [
            "[Parallel(n_jobs=1)]: Using backend SequentialBackend with 1 concurrent workers.\n"
          ]
        },
        {
          "name": "stdout",
          "output_type": "stream",
          "text": [
            "Accuracy: 0.6583333333333333\n",
            "              precision    recall  f1-score   support\n",
            "\n",
            "           0       0.00      0.00      0.00         1\n",
            "           1       0.20      0.12      0.15         8\n",
            "           2       0.67      0.81      0.73        99\n",
            "           3       0.68      0.63      0.66       104\n",
            "           4       0.61      0.41      0.49        27\n",
            "           5       0.00      0.00      0.00         1\n",
            "\n",
            "    accuracy                           0.66       240\n",
            "   macro avg       0.36      0.33      0.34       240\n",
            "weighted avg       0.65      0.66      0.65       240\n",
            "\n",
            "\tConfusion Matrix\n",
            "[[ 0  0  1  0  0  0]\n",
            " [ 0  1  7  0  0  0]\n",
            " [ 0  0 80 18  1  0]\n",
            " [ 0  4 27 66  6  1]\n",
            " [ 0  0  4 12 11  0]\n",
            " [ 0  0  0  1  0  0]]\n"
          ]
        },
        {
          "name": "stderr",
          "output_type": "stream",
          "text": [
            "[Parallel(n_jobs=1)]: Done 144 out of 144 | elapsed:    0.6s finished\n",
            "/Users/jaineet/opt/anaconda3/lib/python3.7/site-packages/sklearn/metrics/_classification.py:1272: UndefinedMetricWarning: Precision and F-score are ill-defined and being set to 0.0 in labels with no predicted samples. Use `zero_division` parameter to control this behavior.\n",
            "  _warn_prf(average, modifier, msg_start, len(result))\n"
          ]
        }
      ]
    },
    {
      "cell_type": "markdown",
      "metadata": {
        "id": "PMhb6xqh5AEd"
      },
      "source": [
        "# LOGISTIC REGRESSION"
      ]
    },
    {
      "cell_type": "code",
      "metadata": {
        "id": "LN2Y3sZ25AEe",
        "outputId": "2722ee65-aacc-4c2b-caff-edf74f0f1036"
      },
      "source": [
        "LR = LogisticRegression(C=0.01, solver='liblinear').fit(X_train,y_train)\n",
        "pred = LR.predict(X_test)\n",
        "print(\"Accuracy:\",metrics.accuracy_score(y_test,pred, normalize = True))\n",
        "print(metrics.classification_report(y_test,pred))\n",
        "print(\"\\tConfusion Matrix\")\n",
        "print(metrics.confusion_matrix(y_test,pred))"
      ],
      "execution_count": null,
      "outputs": [
        {
          "name": "stdout",
          "output_type": "stream",
          "text": [
            "Accuracy: 0.5208333333333334\n",
            "              precision    recall  f1-score   support\n",
            "\n",
            "           0       0.00      0.00      0.00         1\n",
            "           1       0.00      0.00      0.00         8\n",
            "           2       0.51      0.95      0.66        99\n",
            "           3       0.55      0.30      0.39       104\n",
            "           4       0.00      0.00      0.00        27\n",
            "           5       0.00      0.00      0.00         1\n",
            "\n",
            "    accuracy                           0.52       240\n",
            "   macro avg       0.18      0.21      0.18       240\n",
            "weighted avg       0.45      0.52      0.44       240\n",
            "\n",
            "\tConfusion Matrix\n",
            "[[ 0  0  1  0  0  0]\n",
            " [ 0  0  8  0  0  0]\n",
            " [ 0  0 94  5  0  0]\n",
            " [ 0  0 73 31  0  0]\n",
            " [ 0  0  8 19  0  0]\n",
            " [ 0  0  0  1  0  0]]\n"
          ]
        },
        {
          "name": "stderr",
          "output_type": "stream",
          "text": [
            "/Users/jaineet/opt/anaconda3/lib/python3.7/site-packages/sklearn/metrics/_classification.py:1272: UndefinedMetricWarning: Precision and F-score are ill-defined and being set to 0.0 in labels with no predicted samples. Use `zero_division` parameter to control this behavior.\n",
            "  _warn_prf(average, modifier, msg_start, len(result))\n"
          ]
        }
      ]
    },
    {
      "cell_type": "markdown",
      "metadata": {
        "id": "-km9GhX45AEe"
      },
      "source": [
        "# Gradient Boosting"
      ]
    },
    {
      "cell_type": "code",
      "metadata": {
        "id": "AFoKD9h35AEe",
        "outputId": "29d617f1-381d-4f16-8eae-e67fc440ea5d"
      },
      "source": [
        "clf = Pipeline([('clf', GradientBoostingClassifier(random_state=101))])  \n",
        "\n",
        "learning_rate =  [1e-02] \n",
        "n_estimators= [400]\n",
        "max_depth = [10]\n",
        "n_comp = [2, 3, 4, 5]\n",
        "\n",
        "param_grid = [{'clf__learning_rate': learning_rate\n",
        "                ,'clf__max_depth': max_depth\n",
        "                ,'clf__n_estimators' : n_estimators \n",
        "             }]\n",
        "\n",
        "gs = GridSearchCV(estimator=clf, param_grid=param_grid, scoring='accuracy', cv=5, verbose=1, n_jobs=-1)\n",
        "gs.fit(X_train,y_train)\n",
        "\n",
        "pred = gs.predict(X_test)\n",
        "print(\"Accuracy:\",metrics.accuracy_score(y_test,pred, normalize = True))\n",
        "print(metrics.classification_report(y_test,pred))\n",
        "print(\"\\tConfusion Matrix\")\n",
        "print(metrics.confusion_matrix(y_test,pred))"
      ],
      "execution_count": null,
      "outputs": [
        {
          "name": "stdout",
          "output_type": "stream",
          "text": [
            "Fitting 5 folds for each of 1 candidates, totalling 5 fits\n"
          ]
        },
        {
          "name": "stderr",
          "output_type": "stream",
          "text": [
            "[Parallel(n_jobs=-1)]: Using backend LokyBackend with 8 concurrent workers.\n",
            "[Parallel(n_jobs=-1)]: Done   2 out of   5 | elapsed:   22.5s remaining:   33.8s\n",
            "[Parallel(n_jobs=-1)]: Done   5 out of   5 | elapsed:   23.0s finished\n"
          ]
        },
        {
          "name": "stdout",
          "output_type": "stream",
          "text": [
            "Accuracy: 0.7\n",
            "              precision    recall  f1-score   support\n",
            "\n",
            "           0       0.00      0.00      0.00         1\n",
            "           1       0.00      0.00      0.00         8\n",
            "           2       0.70      0.83      0.76        99\n",
            "           3       0.71      0.70      0.71       104\n",
            "           4       0.63      0.44      0.52        27\n",
            "           5       1.00      1.00      1.00         1\n",
            "\n",
            "    accuracy                           0.70       240\n",
            "   macro avg       0.51      0.50      0.50       240\n",
            "weighted avg       0.67      0.70      0.68       240\n",
            "\n",
            "\tConfusion Matrix\n",
            "[[ 0  0  1  0  0  0]\n",
            " [ 0  0  5  3  0  0]\n",
            " [ 0  0 82 16  1  0]\n",
            " [ 0  0 25 73  6  0]\n",
            " [ 0  0  4 11 12  0]\n",
            " [ 0  0  0  0  0  1]]\n"
          ]
        },
        {
          "name": "stderr",
          "output_type": "stream",
          "text": [
            "/Users/jaineet/opt/anaconda3/lib/python3.7/site-packages/sklearn/metrics/_classification.py:1272: UndefinedMetricWarning: Precision and F-score are ill-defined and being set to 0.0 in labels with no predicted samples. Use `zero_division` parameter to control this behavior.\n",
            "  _warn_prf(average, modifier, msg_start, len(result))\n"
          ]
        }
      ]
    },
    {
      "cell_type": "markdown",
      "metadata": {
        "id": "93iUcVSF5AEf"
      },
      "source": [
        "# Random Forest"
      ]
    },
    {
      "cell_type": "code",
      "metadata": {
        "id": "PFU0HgOl5AEf",
        "outputId": "bc81eab6-b0dc-4714-9415-ae8349645220"
      },
      "source": [
        "clf = Pipeline([('clf', RandomForestClassifier(random_state=101))])  \n",
        "\n",
        "criterion = ['gini', 'entropy']\n",
        "class_weight = ['balanced', None] \n",
        "n_estimators = [155, 175]  \n",
        "max_depth  = [20, None] \n",
        "min_samples_split = [2, 3, 4]\n",
        "min_samples_leaf = [1]\n",
        "\n",
        "param_grid =[{ 'clf__class_weight': class_weight,\n",
        "      'clf__criterion': criterion\n",
        "      ,'clf__n_estimators': n_estimators      \n",
        "      ,'clf__min_samples_split': min_samples_split\n",
        "      ,'clf__max_depth': max_depth\n",
        "      ,'clf__min_samples_leaf': min_samples_leaf\n",
        "}]\n",
        "\n",
        "gs = GridSearchCV(estimator=clf, param_grid=param_grid, scoring='accuracy', cv=5, verbose=1,n_jobs=-1)\n",
        "gs.fit(X_train,y_train)\n",
        "\n",
        "pred = gs.predict(X_test)\n",
        "print(\"Accuracy:\",metrics.accuracy_score(y_test,pred, normalize = True))\n",
        "print(metrics.classification_report(y_test,pred))\n",
        "print(\"\\tConfusion Matrix\")\n",
        "print(metrics.confusion_matrix(y_test,pred))"
      ],
      "execution_count": null,
      "outputs": [
        {
          "name": "stdout",
          "output_type": "stream",
          "text": [
            "Fitting 5 folds for each of 48 candidates, totalling 240 fits\n"
          ]
        },
        {
          "name": "stderr",
          "output_type": "stream",
          "text": [
            "[Parallel(n_jobs=-1)]: Using backend LokyBackend with 8 concurrent workers.\n",
            "[Parallel(n_jobs=-1)]: Done  34 tasks      | elapsed:    3.1s\n",
            "[Parallel(n_jobs=-1)]: Done 184 tasks      | elapsed:   15.5s\n",
            "[Parallel(n_jobs=-1)]: Done 240 out of 240 | elapsed:   20.5s finished\n"
          ]
        },
        {
          "name": "stdout",
          "output_type": "stream",
          "text": [
            "Accuracy: 0.725\n",
            "              precision    recall  f1-score   support\n",
            "\n",
            "           0       0.00      0.00      0.00         1\n",
            "           1       1.00      0.12      0.22         8\n",
            "           2       0.72      0.84      0.77        99\n",
            "           3       0.76      0.71      0.73       104\n",
            "           4       0.62      0.56      0.59        27\n",
            "           5       1.00      1.00      1.00         1\n",
            "\n",
            "    accuracy                           0.73       240\n",
            "   macro avg       0.68      0.54      0.55       240\n",
            "weighted avg       0.73      0.72      0.71       240\n",
            "\n",
            "\tConfusion Matrix\n",
            "[[ 0  0  1  0  0  0]\n",
            " [ 0  1  7  0  0  0]\n",
            " [ 0  0 83 15  1  0]\n",
            " [ 0  0 22 74  8  0]\n",
            " [ 0  0  3  9 15  0]\n",
            " [ 0  0  0  0  0  1]]\n"
          ]
        },
        {
          "name": "stderr",
          "output_type": "stream",
          "text": [
            "/Users/jaineet/opt/anaconda3/lib/python3.7/site-packages/sklearn/metrics/_classification.py:1272: UndefinedMetricWarning: Precision and F-score are ill-defined and being set to 0.0 in labels with no predicted samples. Use `zero_division` parameter to control this behavior.\n",
            "  _warn_prf(average, modifier, msg_start, len(result))\n"
          ]
        }
      ]
    },
    {
      "cell_type": "markdown",
      "metadata": {
        "id": "_KlAtJY15AEf"
      },
      "source": [
        "# ANN"
      ]
    },
    {
      "cell_type": "code",
      "metadata": {
        "id": "QoX5yduR5AEg"
      },
      "source": [
        "model = keras.Sequential([\n",
        "    keras.layers.Dense(64,activation = 'relu'),\n",
        "    keras.layers.Dense(32,activation = 'relu'),\n",
        "    keras.layers.Dense(6,activation = 'softmax')\n",
        "                         ])"
      ],
      "execution_count": null,
      "outputs": []
    },
    {
      "cell_type": "code",
      "metadata": {
        "id": "N4QGc5ru5AEg"
      },
      "source": [
        "model.compile(optimizer = 'adam', \n",
        "              loss = 'sparse_categorical_crossentropy',\n",
        "              metrics = ['accuracy'])"
      ],
      "execution_count": null,
      "outputs": []
    },
    {
      "cell_type": "code",
      "metadata": {
        "id": "hkhTZv8v5AEg",
        "outputId": "f94cd346-8376-4e53-dbbe-dc76e8216945"
      },
      "source": [
        "model.fit(X_train,y_train,epochs = 50)"
      ],
      "execution_count": null,
      "outputs": [
        {
          "name": "stdout",
          "output_type": "stream",
          "text": [
            "Epoch 1/50\n",
            "43/43 [==============================] - 0s 798us/step - loss: 1.6729 - accuracy: 0.3834\n",
            "Epoch 2/50\n",
            "43/43 [==============================] - 0s 857us/step - loss: 1.3163 - accuracy: 0.4753\n",
            "Epoch 3/50\n",
            "43/43 [==============================] - 0s 773us/step - loss: 1.1610 - accuracy: 0.5453\n",
            "Epoch 4/50\n",
            "43/43 [==============================] - 0s 711us/step - loss: 1.0947 - accuracy: 0.5578\n",
            "Epoch 5/50\n",
            "43/43 [==============================] - 0s 740us/step - loss: 1.0502 - accuracy: 0.5636\n",
            "Epoch 6/50\n",
            "43/43 [==============================] - 0s 769us/step - loss: 1.0262 - accuracy: 0.5651\n",
            "Epoch 7/50\n",
            "43/43 [==============================] - 0s 729us/step - loss: 1.0110 - accuracy: 0.5747\n",
            "Epoch 8/50\n",
            "43/43 [==============================] - 0s 817us/step - loss: 1.0019 - accuracy: 0.5784\n",
            "Epoch 9/50\n",
            "43/43 [==============================] - 0s 781us/step - loss: 0.9965 - accuracy: 0.5776\n",
            "Epoch 10/50\n",
            "43/43 [==============================] - 0s 716us/step - loss: 0.9913 - accuracy: 0.5835\n",
            "Epoch 11/50\n",
            "43/43 [==============================] - 0s 859us/step - loss: 0.9889 - accuracy: 0.5843\n",
            "Epoch 12/50\n",
            "43/43 [==============================] - 0s 966us/step - loss: 0.9859 - accuracy: 0.5843\n",
            "Epoch 13/50\n",
            "43/43 [==============================] - 0s 943us/step - loss: 0.9831 - accuracy: 0.5784\n",
            "Epoch 14/50\n",
            "43/43 [==============================] - 0s 926us/step - loss: 0.9790 - accuracy: 0.5813\n",
            "Epoch 15/50\n",
            "43/43 [==============================] - 0s 909us/step - loss: 0.9783 - accuracy: 0.5776\n",
            "Epoch 16/50\n",
            "43/43 [==============================] - 0s 916us/step - loss: 0.9759 - accuracy: 0.5865\n",
            "Epoch 17/50\n",
            "43/43 [==============================] - 0s 843us/step - loss: 0.9717 - accuracy: 0.5850\n",
            "Epoch 18/50\n",
            "43/43 [==============================] - 0s 845us/step - loss: 0.9703 - accuracy: 0.5843\n",
            "Epoch 19/50\n",
            "43/43 [==============================] - 0s 806us/step - loss: 0.9699 - accuracy: 0.5960\n",
            "Epoch 20/50\n",
            "43/43 [==============================] - 0s 858us/step - loss: 0.9687 - accuracy: 0.5946\n",
            "Epoch 21/50\n",
            "43/43 [==============================] - 0s 868us/step - loss: 0.9656 - accuracy: 0.5894\n",
            "Epoch 22/50\n",
            "43/43 [==============================] - 0s 855us/step - loss: 0.9634 - accuracy: 0.5887\n",
            "Epoch 23/50\n",
            "43/43 [==============================] - 0s 868us/step - loss: 0.9598 - accuracy: 0.5923\n",
            "Epoch 24/50\n",
            "43/43 [==============================] - 0s 735us/step - loss: 0.9599 - accuracy: 0.5820\n",
            "Epoch 25/50\n",
            "43/43 [==============================] - 0s 862us/step - loss: 0.9572 - accuracy: 0.5931\n",
            "Epoch 26/50\n",
            "43/43 [==============================] - 0s 886us/step - loss: 0.9581 - accuracy: 0.5857\n",
            "Epoch 27/50\n",
            "43/43 [==============================] - 0s 897us/step - loss: 0.9567 - accuracy: 0.5850\n",
            "Epoch 28/50\n",
            "43/43 [==============================] - 0s 776us/step - loss: 0.9562 - accuracy: 0.5857\n",
            "Epoch 29/50\n",
            "43/43 [==============================] - 0s 863us/step - loss: 0.9504 - accuracy: 0.5835\n",
            "Epoch 30/50\n",
            "43/43 [==============================] - 0s 879us/step - loss: 0.9515 - accuracy: 0.5916\n",
            "Epoch 31/50\n",
            "43/43 [==============================] - 0s 810us/step - loss: 0.9479 - accuracy: 0.5887\n",
            "Epoch 32/50\n",
            "43/43 [==============================] - 0s 748us/step - loss: 0.9494 - accuracy: 0.5879\n",
            "Epoch 33/50\n",
            "43/43 [==============================] - 0s 791us/step - loss: 0.9450 - accuracy: 0.5916\n",
            "Epoch 34/50\n",
            "43/43 [==============================] - 0s 791us/step - loss: 0.9441 - accuracy: 0.5894\n",
            "Epoch 35/50\n",
            "43/43 [==============================] - 0s 755us/step - loss: 0.9420 - accuracy: 0.5901\n",
            "Epoch 36/50\n",
            "43/43 [==============================] - 0s 814us/step - loss: 0.9400 - accuracy: 0.5894\n",
            "Epoch 37/50\n",
            "43/43 [==============================] - 0s 841us/step - loss: 0.9445 - accuracy: 0.5872\n",
            "Epoch 38/50\n",
            "43/43 [==============================] - 0s 890us/step - loss: 0.9399 - accuracy: 0.5843\n",
            "Epoch 39/50\n",
            "43/43 [==============================] - 0s 804us/step - loss: 0.9364 - accuracy: 0.5968\n",
            "Epoch 40/50\n",
            "43/43 [==============================] - 0s 789us/step - loss: 0.9375 - accuracy: 0.5901\n",
            "Epoch 41/50\n",
            "43/43 [==============================] - 0s 807us/step - loss: 0.9342 - accuracy: 0.5916\n",
            "Epoch 42/50\n",
            "43/43 [==============================] - 0s 849us/step - loss: 0.9341 - accuracy: 0.5901\n",
            "Epoch 43/50\n",
            "43/43 [==============================] - 0s 908us/step - loss: 0.9325 - accuracy: 0.5968\n",
            "Epoch 44/50\n",
            "43/43 [==============================] - 0s 920us/step - loss: 0.9310 - accuracy: 0.5953\n",
            "Epoch 45/50\n",
            "43/43 [==============================] - 0s 895us/step - loss: 0.9300 - accuracy: 0.5872\n",
            "Epoch 46/50\n",
            "43/43 [==============================] - 0s 901us/step - loss: 0.9300 - accuracy: 0.5909\n",
            "Epoch 47/50\n",
            "43/43 [==============================] - 0s 872us/step - loss: 0.9277 - accuracy: 0.5946\n",
            "Epoch 48/50\n",
            "43/43 [==============================] - 0s 860us/step - loss: 0.9277 - accuracy: 0.5923\n",
            "Epoch 49/50\n",
            "43/43 [==============================] - 0s 841us/step - loss: 0.9282 - accuracy: 0.5894\n",
            "Epoch 50/50\n",
            "43/43 [==============================] - 0s 836us/step - loss: 0.9267 - accuracy: 0.5975\n"
          ]
        },
        {
          "data": {
            "text/plain": [
              "<tensorflow.python.keras.callbacks.History at 0x7fbbc07b4410>"
            ]
          },
          "execution_count": 25,
          "metadata": {},
          "output_type": "execute_result"
        }
      ]
    },
    {
      "cell_type": "code",
      "metadata": {
        "id": "cGW4sD_X5AEg",
        "outputId": "fa6fa552-d3cd-4e7d-b512-4253b6aa71c1"
      },
      "source": [
        "loss,acc = model.evaluate(X_test,y_test,verbose= 1)\n",
        "print(acc)"
      ],
      "execution_count": null,
      "outputs": [
        {
          "name": "stdout",
          "output_type": "stream",
          "text": [
            "8/8 [==============================] - 0s 760us/step - loss: 0.8920 - accuracy: 0.6167\n",
            "0.6166666746139526\n"
          ]
        }
      ]
    },
    {
      "cell_type": "markdown",
      "metadata": {
        "id": "Mu9dGwUp5AEh"
      },
      "source": [
        "# From the above algorithms, we can see that the Random Forest model gives the highest accuracy, macro average and weighted average."
      ]
    }
  ]
}